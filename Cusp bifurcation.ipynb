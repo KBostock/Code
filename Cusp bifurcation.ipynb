{
 "cells": [
  {
   "cell_type": "code",
   "execution_count": 3,
   "metadata": {
    "collapsed": true
   },
   "outputs": [],
   "source": [
    "import matplotlib.pyplot as plt\n",
    "import numpy as np"
   ]
  },
  {
   "cell_type": "code",
   "execution_count": 4,
   "metadata": {
    "collapsed": true
   },
   "outputs": [],
   "source": [
    "%matplotlib inline"
   ]
  },
  {
   "cell_type": "code",
   "execution_count": 5,
   "metadata": {
    "collapsed": true
   },
   "outputs": [],
   "source": [
    "r = 1.0/2\n",
    "\n",
    "inital_condition_adj_factor = 0.5\n",
    "gradient_factor = 1000\n",
    "iterations = 10000 # points to plot\n",
    "\n",
    "x0_region1 =  - inital_condition_adj_factor\n",
    "y0_region1 = r**2 - inital_condition_adj_factor\n",
    "x0_region2 =  - inital_condition_adj_factor\n",
    "y0_region2 = r**2  + inital_condition_adj_factor\n",
    "x0_region3 =  + inital_condition_adj_factor\n",
    "y0_region3 = r**2  + inital_condition_adj_factor\n",
    "x0_region4 =  + inital_condition_adj_factor\n",
    "y0_region4 = r**2 - inital_condition_adj_factor"
   ]
  },
  {
   "cell_type": "code",
   "execution_count": 6,
   "metadata": {},
   "outputs": [],
   "source": [
    "# plot 1; x dot = 0; \n",
    "x1 = np.linspace(-1, 1, 50)\n",
    "y1 = np.full(len(x1), r**(0.5) )"
   ]
  },
  {
   "cell_type": "code",
   "execution_count": 7,
   "metadata": {
    "collapsed": true
   },
   "outputs": [],
   "source": [
    "# plot 2; y dot = 0; \n",
    "y2 = np.linspace(-1, 1, 50)\n",
    "x2 = np.full(len(y2), 0) "
   ]
  },
  {
   "cell_type": "code",
   "execution_count": 12,
   "metadata": {
    "collapsed": true
   },
   "outputs": [],
   "source": [
    "def x_dot(x,y, r):\n",
    "    return x*r - x**3\n",
    "\n",
    "def y_dot(x,y, r):\n",
    "    return -y    "
   ]
  },
  {
   "cell_type": "code",
   "execution_count": 13,
   "metadata": {
    "collapsed": true
   },
   "outputs": [],
   "source": [
    "# Region 1 initial conditions\n",
    "x_output = x0_region1\n",
    "y_output = y0_region1\n",
    "x3 = [x_output]\n",
    "y3 = [y_output]\n",
    "\n",
    "for i in range(1,iterations):\n",
    "    x_input = x_output\n",
    "    y_input = y_output\n",
    "    x_gradient = x_dot(x_input, y_input, r)\n",
    "    y_gradient = y_dot(x_input, y_input, r)\n",
    "    x_output = x_input + x_gradient/gradient_factor\n",
    "    y_output = y_input + y_gradient/gradient_factor\n",
    "    x3.append(x_output)\n",
    "    y3.append(y_output)"
   ]
  },
  {
   "cell_type": "code",
   "execution_count": 14,
   "metadata": {
    "collapsed": true
   },
   "outputs": [],
   "source": [
    "# Region 2 initial conditions\n",
    "x_output = x0_region2\n",
    "y_output = y0_region2\n",
    "x4 = [x_output]\n",
    "y4 = [y_output]\n",
    "\n",
    "for i in range(1,iterations):\n",
    "    x_input = x_output\n",
    "    y_input = y_output\n",
    "    x_gradient = x_dot(x_input, y_input, r)\n",
    "    y_gradient = y_dot(x_input, y_input, r)\n",
    "    x_output = x_input + x_gradient/gradient_factor\n",
    "    y_output = y_input + y_gradient/gradient_factor\n",
    "    x4.append(x_output)\n",
    "    y4.append(y_output)"
   ]
  },
  {
   "cell_type": "code",
   "execution_count": 15,
   "metadata": {
    "collapsed": true
   },
   "outputs": [],
   "source": [
    "# Region 3 initial conditions\n",
    "x_output = x0_region3\n",
    "y_output = y0_region3\n",
    "x5 = [x_output]\n",
    "y5 = [y_output]\n",
    "\n",
    "for i in range(1,iterations):\n",
    "    x_input = x_output\n",
    "    y_input = y_output\n",
    "    x_gradient = x_dot(x_input, y_input, r)\n",
    "    y_gradient = y_dot(x_input, y_input, r)\n",
    "    x_output = x_input + x_gradient/gradient_factor\n",
    "    y_output = y_input + y_gradient/gradient_factor\n",
    "    x5.append(x_output)\n",
    "    y5.append(y_output)"
   ]
  },
  {
   "cell_type": "code",
   "execution_count": 16,
   "metadata": {
    "collapsed": true
   },
   "outputs": [],
   "source": [
    "# Region 4 initial conditions\n",
    "x_output = x0_region4\n",
    "y_output = y0_region4\n",
    "x6 = [x_output]\n",
    "y6 = [y_output]\n",
    "\n",
    "for i in range(1,iterations):\n",
    "    x_input = x_output\n",
    "    y_input = y_output\n",
    "    x_gradient = x_dot(x_input, y_input, r)\n",
    "    y_gradient = y_dot(x_input, y_input, r)\n",
    "    x_output = x_input + x_gradient/gradient_factor\n",
    "    y_output = y_input + y_gradient/gradient_factor\n",
    "    x6.append(x_output)\n",
    "    y6.append(y_output)"
   ]
  },
  {
   "cell_type": "code",
   "execution_count": 17,
   "metadata": {},
   "outputs": [
    {
     "data": {
      "text/plain": [
       "<matplotlib.legend.Legend at 0x10cfb5c90>"
      ]
     },
     "execution_count": 17,
     "metadata": {},
     "output_type": "execute_result"
    },
    {
     "data": {
      "image/png": "[encoded data removed]",
      "text/plain": [
       "<matplotlib.figure.Figure at 0x109f3e610>"
      ]
     },
     "metadata": {},
     "output_type": "display_data"
    }
   ],
   "source": [
    "fig = plt.figure()\n",
    "\n",
    "ax = fig.add_axes([-2,-2,2,2])\n",
    "\n",
    "ax.plot(x1, y1, 'r', label = \"y dot zero\") # 'r' is the color red\n",
    "ax.plot(x2, y2, 'b', label = \"x dot zero\") \n",
    "ax.plot(x3, y3, 'g', label = \"Track 1\") \n",
    "ax.plot(x4, y4, 'y', label = \"Track 2\") \n",
    "ax.plot(x5, y5, 'c', label = \"Track 3\") \n",
    "ax.plot(x6, y6, 'm', label = \"Track 4\") \n",
    "\n",
    "ax.plot(x3[len(x3)-1], y3[len(y3)-1], color=\"g\", marker='o')\n",
    "ax.plot(x4[len(x4)-1], y4[len(y4)-1], color=\"y\", marker='o')\n",
    "ax.plot(x5[len(x5)-1], y5[len(y5)-1], color=\"c\", marker='o')\n",
    "ax.plot(x6[len(x6)-1], y6[len(y6)-1], color=\"m\", marker='o')\n",
    "\n",
    "ax.set_xlabel('x')\n",
    "ax.set_ylabel('y')\n",
    "ax.set_title('Nullclines')\n",
    "ax.legend()"
   ]
  },
  {
   "cell_type": "code",
   "execution_count": 19,
   "metadata": {},
   "outputs": [
    {
     "data": {
      "text/plain": [
       "array([-0.70710678,  0.        ,  0.70710678])"
      ]
     },
     "execution_count": 19,
     "metadata": {},
     "output_type": "execute_result"
    }
   ],
   "source": [
    "# find steady states\n",
    "fun = np.array([0,r,0, -1])\n",
    "roots = np.polynomial.polynomial.polyroots(fun)\n",
    "roots"
   ]
  },
  {
   "cell_type": "code",
   "execution_count": 33,
   "metadata": {
    "collapsed": true
   },
   "outputs": [],
   "source": [
    "# find eigenvalues\n",
    "steady_x0 = roots[0]\n",
    "steady_x1 = roots[1]\n",
    "steady_x2 = roots[2]"
   ]
  },
  {
   "cell_type": "code",
   "execution_count": 34,
   "metadata": {
    "collapsed": true
   },
   "outputs": [],
   "source": [
    "def coef0(x, r):\n",
    "    return -r + 3*x**2\n",
    "def coef1(x, r):\n",
    "    return 1 - r + 3*x**2"
   ]
  },
  {
   "cell_type": "code",
   "execution_count": 35,
   "metadata": {},
   "outputs": [],
   "source": [
    "jac0 = np.array([coef0(steady_x0, r), coef1(steady_x0, r), 1]) \n",
    "jac1 = np.array([coef0(steady_x1, r), coef1(steady_x1, r), 1])\n",
    "jac2 = np.array([coef0(steady_x2, r), coef1(steady_x2, r), 1])"
   ]
  },
  {
   "cell_type": "code",
   "execution_count": 36,
   "metadata": {},
   "outputs": [
    {
     "data": {
      "text/plain": [
       "array([-1.00000001, -0.99999999])"
      ]
     },
     "execution_count": 36,
     "metadata": {},
     "output_type": "execute_result"
    }
   ],
   "source": [
    "eigenvalues_SS0 = np.polynomial.polynomial.polyroots(jac0)\n",
    "eigenvalues_SS0"
   ]
  },
  {
   "cell_type": "code",
   "execution_count": 37,
   "metadata": {},
   "outputs": [
    {
     "data": {
      "text/plain": [
       "array([-1. ,  0.5])"
      ]
     },
     "execution_count": 37,
     "metadata": {},
     "output_type": "execute_result"
    }
   ],
   "source": [
    "eigenvalues_SS1 = np.polynomial.polynomial.polyroots(jac1)\n",
    "eigenvalues_SS1"
   ]
  },
  {
   "cell_type": "code",
   "execution_count": 38,
   "metadata": {},
   "outputs": [
    {
     "data": {
      "text/plain": [
       "array([-1. -1.49011612e-08j, -1. +1.49011612e-08j])"
      ]
     },
     "execution_count": 38,
     "metadata": {},
     "output_type": "execute_result"
    }
   ],
   "source": [
    "eigenvalues_SS2 = np.polynomial.polynomial.polyroots(jac2)\n",
    "eigenvalues_SS2"
   ]
  },
  {
   "cell_type": "code",
   "execution_count": 27,
   "metadata": {},
   "outputs": [
    {
     "data": {
      "text/plain": [
       "0.5"
      ]
     },
     "execution_count": 27,
     "metadata": {},
     "output_type": "execute_result"
    }
   ],
   "source": [
    "r"
   ]
  },
  {
   "cell_type": "code",
   "execution_count": null,
   "metadata": {
    "collapsed": true
   },
   "outputs": [],
   "source": []
  }
 ],
 "metadata": {
  "kernelspec": {
   "display_name": "Python 2",
   "language": "python",
   "name": "python2"
  },
  "language_info": {
   "codemirror_mode": {
    "name": "ipython",
    "version": 2
   },
   "file_extension": ".py",
   "mimetype": "text/x-python",
   "name": "python",
   "nbconvert_exporter": "python",
   "pygments_lexer": "ipython2",
   "version": "2.7.13"
  }
 },
 "nbformat": 4,
 "nbformat_minor": 2
}
