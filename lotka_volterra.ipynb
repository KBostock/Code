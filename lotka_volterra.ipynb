{
 "cells": [
  {
   "cell_type": "code",
   "execution_count": 248,
   "metadata": {
    "collapsed": true
   },
   "outputs": [],
   "source": [
    "import matplotlib.pyplot as plt\n",
    "import numpy as np"
   ]
  },
  {
   "cell_type": "code",
   "execution_count": 249,
   "metadata": {
    "collapsed": true
   },
   "outputs": [],
   "source": [
    "%matplotlib inline"
   ]
  },
  {
   "cell_type": "code",
   "execution_count": 268,
   "metadata": {
    "collapsed": true
   },
   "outputs": [],
   "source": [
    "r = 1\n",
    "a = 1\n",
    "b = 1\n",
    "d = 1.5\n",
    "inital_condition_adj_factor = 0.6\n",
    "gradient_factor = 1000\n",
    "iterations = 10000 # points to plot\n",
    "\n",
    "x0_region1 = d/b - inital_condition_adj_factor\n",
    "y0_region1 = r/a - inital_condition_adj_factor\n",
    "x0_region2 = d/b - inital_condition_adj_factor\n",
    "y0_region2 = r/a + inital_condition_adj_factor\n",
    "x0_region3 = d/b + inital_condition_adj_factor\n",
    "y0_region3 = r/a + inital_condition_adj_factor\n",
    "x0_region4 = d/b + inital_condition_adj_factor\n",
    "y0_region4 = r/a - inital_condition_adj_factor"
   ]
  },
  {
   "cell_type": "code",
   "execution_count": 269,
   "metadata": {
    "collapsed": true
   },
   "outputs": [],
   "source": [
    "# plot 1; x dot = 0; at y = r/a\n",
    "x1 = np.linspace(-5, 5, 50)\n",
    "y1 = np.full(len(x1), r/a) "
   ]
  },
  {
   "cell_type": "code",
   "execution_count": 270,
   "metadata": {
    "collapsed": true
   },
   "outputs": [],
   "source": [
    "# plot 2; y dot = 0; at x = d/b\n",
    "y2 = np.linspace(-5, 5, 50)\n",
    "x2 = np.full(len(y2), d/b) "
   ]
  },
  {
   "cell_type": "code",
   "execution_count": 271,
   "metadata": {
    "collapsed": true
   },
   "outputs": [],
   "source": [
    "def x_dot(x,y, r, a):\n",
    "    return x*(r - a*y)\n",
    "\n",
    "def y_dot(x,y, b, d):\n",
    "    return y*(b*x - d)    "
   ]
  },
  {
   "cell_type": "code",
   "execution_count": 272,
   "metadata": {
    "collapsed": true
   },
   "outputs": [],
   "source": [
    "# Region 1 initial conditions\n",
    "x_output = x0_region1\n",
    "y_output = y0_region1\n",
    "x3 = [x_output]\n",
    "y3 = [y_output]\n",
    "\n",
    "for i in range(1,iterations):\n",
    "    x_input = x_output\n",
    "    y_input = y_output\n",
    "    x_gradient = x_dot(x_input, y_input, r, a)\n",
    "    y_gradient = y_dot(x_input, y_input, b, d)\n",
    "    x_output = x_input + x_gradient/gradient_factor\n",
    "    y_output = y_input + y_gradient/gradient_factor\n",
    "    x3.append(x_output)\n",
    "    y3.append(y_output)"
   ]
  },
  {
   "cell_type": "code",
   "execution_count": 273,
   "metadata": {
    "collapsed": true
   },
   "outputs": [],
   "source": [
    "# Region 2 initial conditions\n",
    "x_output = x0_region2\n",
    "y_output = y0_region2\n",
    "x4 = [x_output]\n",
    "y4 = [y_output]\n",
    "\n",
    "for i in range(1,iterations):\n",
    "    x_input = x_output\n",
    "    y_input = y_output\n",
    "    x_gradient = x_dot(x_input, y_input, r, a)\n",
    "    y_gradient = y_dot(x_input, y_input, b, d)\n",
    "    x_output = x_input + x_gradient/gradient_factor\n",
    "    y_output = y_input + y_gradient/gradient_factor\n",
    "    x4.append(x_output)\n",
    "    y4.append(y_output)"
   ]
  },
  {
   "cell_type": "code",
   "execution_count": 274,
   "metadata": {
    "collapsed": true
   },
   "outputs": [],
   "source": [
    "# Region 3 initial conditions\n",
    "x_output = x0_region3\n",
    "y_output = y0_region3\n",
    "x5 = [x_output]\n",
    "y5 = [y_output]\n",
    "\n",
    "for i in range(1,iterations):\n",
    "    x_input = x_output\n",
    "    y_input = y_output\n",
    "    x_gradient = x_dot(x_input, y_input, r, a)\n",
    "    y_gradient = y_dot(x_input, y_input, b, d)\n",
    "    x_output = x_input + x_gradient/gradient_factor\n",
    "    y_output = y_input + y_gradient/gradient_factor\n",
    "    x5.append(x_output)\n",
    "    y5.append(y_output)"
   ]
  },
  {
   "cell_type": "code",
   "execution_count": 275,
   "metadata": {
    "collapsed": true
   },
   "outputs": [],
   "source": [
    "# Region 4 initial conditions\n",
    "x_output = x0_region4\n",
    "y_output = y0_region4\n",
    "x6 = [x_output]\n",
    "y6 = [y_output]\n",
    "\n",
    "for i in range(1,iterations):\n",
    "    x_input = x_output\n",
    "    y_input = y_output\n",
    "    x_gradient = x_dot(x_input, y_input, r, a)\n",
    "    y_gradient = y_dot(x_input, y_input, b, d)\n",
    "    x_output = x_input + x_gradient/gradient_factor\n",
    "    y_output = y_input + y_gradient/gradient_factor\n",
    "    x6.append(x_output)\n",
    "    y6.append(y_output)"
   ]
  },
  {
   "cell_type": "code",
   "execution_count": 276,
   "metadata": {},
   "outputs": [
    {
     "data": {
      "text/plain": [
       "<matplotlib.legend.Legend at 0x11dfe6b90>"
      ]
     },
     "execution_count": 276,
     "metadata": {},
     "output_type": "execute_result"
    },
    {
     "data": {
      "image/png": "[encoded data removed]",
      "text/plain": [
       "<matplotlib.figure.Figure at 0x127ea6810>"
      ]
     },
     "metadata": {},
     "output_type": "display_data"
    }
   ],
   "source": [
    "fig = plt.figure()\n",
    "\n",
    "ax = fig.add_axes([-2,-2,2,2])\n",
    "\n",
    "ax.plot(x1, y1, 'r', label = \"y dot zero\") # 'r' is the color red\n",
    "ax.plot(x2, y2, 'b', label = \"x dot zero\") \n",
    "ax.plot(x3, y3, 'g', label = \"Track 1\") \n",
    "ax.plot(x4, y4, 'y', label = \"Track 2\") \n",
    "ax.plot(x5, y5, 'c', label = \"Track 3\") \n",
    "ax.plot(x6, y6, 'm', label = \"Track 4\") \n",
    "\n",
    "ax.plot(x3[len(x3)-1], y3[len(y3)-1], color=\"g\", marker='o')\n",
    "ax.plot(x4[len(x4)-1], y4[len(y4)-1], color=\"y\", marker='o')\n",
    "ax.plot(x5[len(x5)-1], y5[len(y5)-1], color=\"c\", marker='o')\n",
    "ax.plot(x6[len(x6)-1], y6[len(y6)-1], color=\"m\", marker='o')\n",
    "\n",
    "ax.set_xlabel('x')\n",
    "ax.set_ylabel('y')\n",
    "ax.set_title('Nullclines')\n",
    "ax.legend()"
   ]
  },
  {
   "cell_type": "code",
   "execution_count": null,
   "metadata": {
    "collapsed": true
   },
   "outputs": [],
   "source": []
  },
  {
   "cell_type": "code",
   "execution_count": null,
   "metadata": {
    "collapsed": true
   },
   "outputs": [],
   "source": []
  },
  {
   "cell_type": "code",
   "execution_count": null,
   "metadata": {
    "collapsed": true
   },
   "outputs": [],
   "source": []
  },
  {
   "cell_type": "code",
   "execution_count": null,
   "metadata": {
    "collapsed": true
   },
   "outputs": [],
   "source": []
  },
  {
   "cell_type": "code",
   "execution_count": null,
   "metadata": {
    "collapsed": true
   },
   "outputs": [],
   "source": []
  },
  {
   "cell_type": "code",
   "execution_count": null,
   "metadata": {
    "collapsed": true
   },
   "outputs": [],
   "source": []
  }
 ],
 "metadata": {
  "kernelspec": {
   "display_name": "Python 2",
   "language": "python",
   "name": "python2"
  },
  "language_info": {
   "codemirror_mode": {
    "name": "ipython",
    "version": 2
   },
   "file_extension": ".py",
   "mimetype": "text/x-python",
   "name": "python",
   "nbconvert_exporter": "python",
   "pygments_lexer": "ipython2",
   "version": "2.7.13"
  }
 },
 "nbformat": 4,
 "nbformat_minor": 2
}
